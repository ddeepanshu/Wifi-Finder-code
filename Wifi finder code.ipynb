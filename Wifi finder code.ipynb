{
 "cells": [
  {
   "cell_type": "markdown",
   "metadata": {},
   "source": [
    "## Use machine learning to find the the wifi networks near you"
   ]
  },
  {
   "cell_type": "code",
   "execution_count": 1,
   "metadata": {},
   "outputs": [],
   "source": [
    "import subprocess"
   ]
  },
  {
   "cell_type": "code",
   "execution_count": 6,
   "metadata": {},
   "outputs": [
    {
     "name": "stdout",
     "output_type": "stream",
     "text": [
      "['SSID 1 : Gupta Family', 'SSID 2 : POCO C3', '']\n"
     ]
    }
   ],
   "source": [
    "wifi = subprocess.check_output([\"netsh\", \"wlan\", \"show\", \"network\"])\n",
    "wifi = wifi.decode(\"ascii\")\n",
    "wifi = wifi.replace(\"\\r\",\"\")\n",
    "ls = wifi.split(\"\\n\")\n",
    "ls = ls[4:]\n",
    "ssids = []\n",
    "x = 0\n",
    "while x<len(ls):\n",
    "    if x%5==0:\n",
    "        ssids.append(ls[x])\n",
    "    x+=1\n",
    "print(ssids)"
   ]
  },
  {
   "cell_type": "code",
   "execution_count": null,
   "metadata": {},
   "outputs": [],
   "source": []
  }
 ],
 "metadata": {
  "kernelspec": {
   "display_name": "Python 3",
   "language": "python",
   "name": "python3"
  },
  "language_info": {
   "codemirror_mode": {
    "name": "ipython",
    "version": 3
   },
   "file_extension": ".py",
   "mimetype": "text/x-python",
   "name": "python",
   "nbconvert_exporter": "python",
   "pygments_lexer": "ipython3",
   "version": "3.8.5"
  }
 },
 "nbformat": 4,
 "nbformat_minor": 4
}
